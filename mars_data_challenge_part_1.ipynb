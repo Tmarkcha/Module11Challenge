{
 "cells": [
  {
   "cell_type": "code",
   "execution_count": 1,
   "metadata": {},
   "outputs": [],
   "source": [
    "# Import Splinter and BeautifulSoup\n",
    "from splinter import Browser\n",
    "from bs4 import BeautifulSoup as soup\n",
    "from webdriver_manager.chrome import ChromeDriverManager"
   ]
  },
  {
   "cell_type": "code",
   "execution_count": 2,
   "metadata": {},
   "outputs": [],
   "source": [
    "executable_path = {'executable_path': ChromeDriverManager().install()}\n",
    "browser = Browser('chrome', **executable_path, headless=False)"
   ]
  },
  {
   "cell_type": "code",
   "execution_count": 3,
   "metadata": {},
   "outputs": [
    {
     "data": {
      "text/plain": [
       "True"
      ]
     },
     "execution_count": 3,
     "metadata": {},
     "output_type": "execute_result"
    }
   ],
   "source": [
    "# Visit the Mars NASA news site\n",
    "url = 'https://redplanetscience.com'\n",
    "browser.visit(url)\n",
    "# Optional delay for loading the page\n",
    "browser.is_element_present_by_css('div.list_text', wait_time=1)"
   ]
  },
  {
   "cell_type": "code",
   "execution_count": 4,
   "metadata": {},
   "outputs": [],
   "source": [
    "html = browser.html\n",
    "news_soup = soup(html, 'html.parser')\n",
    "slide_elem = news_soup.find_all('div.list_text')"
   ]
  },
  {
   "cell_type": "code",
   "execution_count": 5,
   "metadata": {},
   "outputs": [],
   "source": [
    "# List to contain article info\n",
    "news_list = []"
   ]
  },
  {
   "cell_type": "markdown",
   "metadata": {},
   "source": [
    "def get_summary():\n",
    "    \n",
    "    title_elem = news_soup.find_all('div', class_='content_title')\n",
    "\n",
    "    for title in title_elem:\n",
    "        word = title.text\n",
    "\n",
    "        #summary_dict = {\n",
    "            #\"title\": word\n",
    "            #}\n",
    "        #news_list.append(summary_dict)\n",
    "\n",
    "    body_elem = news_soup.find_all('div', class_='article_teaser_body')\n",
    "    \n",
    "    for content in body_elem:\n",
    "        summary = content.text\n",
    "        \n",
    "        summary_dict = {\n",
    "            \"title\": word,\n",
    "            \"preview\": summary\n",
    "            }\n",
    "        news_list.append(summary_dict)"
   ]
  },
  {
   "cell_type": "code",
   "execution_count": 26,
   "metadata": {},
   "outputs": [],
   "source": [
    "for i in slide_elem:\n",
    "    title = i.find('div', class_='content_title').text\n",
    "    preview = i.find('div', class_='article_teaser_body').text\n",
    "\n",
    "    title\n",
    "    preview\n",
    "\n",
    "    news_item = {}\n",
    "    news_item['title'] = title\n",
    "    news_item['preview'] = preview\n",
    "    news_list.append(news_item)"
   ]
  },
  {
   "cell_type": "code",
   "execution_count": 27,
   "metadata": {},
   "outputs": [
    {
     "data": {
      "text/plain": [
       "[]"
      ]
     },
     "execution_count": 27,
     "metadata": {},
     "output_type": "execute_result"
    }
   ],
   "source": [
    "news_list"
   ]
  },
  {
   "cell_type": "code",
   "execution_count": 11,
   "metadata": {},
   "outputs": [],
   "source": [
    "articles_list = []"
   ]
  },
  {
   "cell_type": "code",
   "execution_count": 12,
   "metadata": {},
   "outputs": [
    {
     "name": "stdout",
     "output_type": "stream",
     "text": [
      "NASA's InSight Flexes Its Arm While Its 'Mole' Hits Pause\n",
      "NASA to Reveal Name of Its Next Mars Rover\n",
      "10.9 Million Names Now Aboard NASA's Perseverance Mars Rover\n",
      "All About the Laser (and Microphone) Atop Mars 2020, NASA's Next Rover\n",
      "Alabama High School Student Names NASA's Mars Helicopter\n",
      "The MarCO Mission Comes to an End\n",
      "NASA Moves Forward With Campaign to Return Mars Samples to Earth\n",
      "Q&A with the Student Who Named Ingenuity, NASA's Mars Helicopter\n",
      "NASA's Briefcase-Size MarCO Satellite Picks Up Honors\n",
      "NASA's Perseverance Rover Bringing 3D-Printed Metal Parts to Mars\n",
      "Three New Views of Mars' Moon Phobos\n",
      "NASA's Perseverance Rover Attached to Atlas V Rocket\n",
      "NASA's InSight 'Hears' Peculiar Sounds on Mars\n",
      "Common Questions about InSight's 'Mole'\n",
      "My Culture, My Voice\n"
     ]
    }
   ],
   "source": [
    "title_elem = news_soup.find_all('div', class_='content_title')\n",
    "\n",
    "for title in title_elem:\n",
    "    word = title.text\n",
    "    summary_dict = {\n",
    "        \"title\": word\n",
    "    }\n",
    "    articles_list.append(summary_dict)\n",
    "    print(word)"
   ]
  },
  {
   "cell_type": "code",
   "execution_count": 13,
   "metadata": {},
   "outputs": [
    {
     "name": "stdout",
     "output_type": "stream",
     "text": [
      "Now that the lander's robotic arm has helped the mole get underground, it will resume science activities that have been on hold.\n",
      "After a months-long contest among students to name NASA's newest Mars rover, the agency will reveal the winning name — and the winning student — this Thursday. \n",
      "As part of NASA's 'Send Your Name to Mars' campaign, they've been stenciled onto three microchips along with essays from NASA's 'Name the Rover' contest. Next stop: Mars.\n",
      "SuperCam is a rock-vaporizing instrument that will help scientists hunt for Mars fossils.\n",
      "Vaneeza Rupani's essay was chosen as the name for the small spacecraft, which will mark NASA's first attempt at powered flight on another planet.\n",
      "The pair of briefcase-sized satellites made history when they sailed past Mars in 2019.\n",
      "During this next phase, the program will mature critical technologies and make critical design decisions as well as assess industry partnerships.\n",
      "As a longtime fan of space exploration, Vaneeza Rupani appreciates the creativity and collaboration involved with trying to fly on another planet.\n",
      "The twin spacecraft, the first of their kind to fly into deep space, earn a Laureate from Aviation Week & Space Technology.\n",
      "For hobbyists and makers, 3D printing expands creative possibilities; for specialized engineers, it's also key to next-generation spacecraft design.\n",
      "Taken with the infrared camera aboard NASA's Odyssey orbiter, they reveal temperature variations on the small moon as it drifts into and out of Mars’ shadow.\n",
      "Ready for its launch later in the month, the Mars-bound rover will touch terra firma no more.\n",
      "Listen to the marsquakes and other, less-expected sounds that the Mars lander has been detecting.\n",
      "The following Q&As with members of the team answer some of the most common questions about the burrowing device, part of a science instrument called the Heat Flow and Physical Properties Package (HP3).\n",
      "In honor of Hispanic Heritage Month, Christina Hernandez, an instrument engineer on the Mars 2020 mission, talks about her childhood and journey to NASA.\n"
     ]
    }
   ],
   "source": [
    "body_elem = news_soup.find_all('div', class_='article_teaser_body')\n",
    "\n",
    "for content in body_elem:\n",
    "    summary = content.text\n",
    "    summary_dict = {\n",
    "        \"preview\": summary\n",
    "    }\n",
    "    articles_list.append(summary_dict)\n",
    "    print(summary)"
   ]
  },
  {
   "cell_type": "code",
   "execution_count": 14,
   "metadata": {},
   "outputs": [
    {
     "data": {
      "text/plain": [
       "[{'title': \"NASA's InSight Flexes Its Arm While Its 'Mole' Hits Pause\"},\n",
       " {'title': 'NASA to Reveal Name of Its Next Mars Rover'},\n",
       " {'title': \"10.9 Million Names Now Aboard NASA's Perseverance Mars Rover\"},\n",
       " {'title': \"All About the Laser (and Microphone) Atop Mars 2020, NASA's Next Rover\"},\n",
       " {'title': \"Alabama High School Student Names NASA's Mars Helicopter\"},\n",
       " {'title': 'The MarCO Mission Comes to an End'},\n",
       " {'title': 'NASA Moves Forward With Campaign to Return Mars Samples to Earth'},\n",
       " {'title': \"Q&A with the Student Who Named Ingenuity, NASA's Mars Helicopter\"},\n",
       " {'title': \"NASA's Briefcase-Size MarCO Satellite Picks Up Honors\"},\n",
       " {'title': \"NASA's Perseverance Rover Bringing 3D-Printed Metal Parts to Mars\"},\n",
       " {'title': \"Three New Views of Mars' Moon Phobos\"},\n",
       " {'title': \"NASA's Perseverance Rover Attached to Atlas V Rocket\"},\n",
       " {'title': \"NASA's InSight 'Hears' Peculiar Sounds on Mars\"},\n",
       " {'title': \"Common Questions about InSight's 'Mole'\"},\n",
       " {'title': 'My Culture, My Voice'},\n",
       " {'preview': \"Now that the lander's robotic arm has helped the mole get underground, it will resume science activities that have been on hold.\"},\n",
       " {'preview': \"After a months-long contest among students to name NASA's newest Mars rover, the agency will reveal the winning name — and the winning student — this Thursday. \"},\n",
       " {'preview': \"As part of NASA's 'Send Your Name to Mars' campaign, they've been stenciled onto three microchips along with essays from NASA's 'Name the Rover' contest. Next stop: Mars.\"},\n",
       " {'preview': 'SuperCam is a rock-vaporizing instrument that will help scientists hunt for Mars fossils.'},\n",
       " {'preview': \"Vaneeza Rupani's essay was chosen as the name for the small spacecraft, which will mark NASA's first attempt at powered flight on another planet.\"},\n",
       " {'preview': 'The pair of briefcase-sized satellites made history when they sailed past Mars in 2019.'},\n",
       " {'preview': 'During this next phase, the program will mature critical technologies and make critical design decisions as well as assess industry partnerships.'},\n",
       " {'preview': 'As a longtime fan of space exploration, Vaneeza Rupani appreciates the creativity and collaboration involved with trying to fly on another planet.'},\n",
       " {'preview': 'The twin spacecraft, the first of their kind to fly into deep space, earn a Laureate from Aviation Week & Space Technology.'},\n",
       " {'preview': \"For hobbyists and makers, 3D printing expands creative possibilities; for specialized engineers, it's also key to next-generation spacecraft design.\"},\n",
       " {'preview': \"Taken with the infrared camera aboard NASA's Odyssey orbiter, they reveal temperature variations on the small moon as it drifts into and out of Mars’ shadow.\"},\n",
       " {'preview': 'Ready for its launch later in the month, the Mars-bound rover will touch terra firma no more.'},\n",
       " {'preview': 'Listen to the marsquakes and other, less-expected sounds that the Mars lander has been detecting.'},\n",
       " {'preview': 'The following Q&As with members of the team answer some of the most common questions about the burrowing device, part of a science instrument called the Heat Flow and Physical Properties Package (HP3).'},\n",
       " {'preview': 'In honor of Hispanic Heritage Month, Christina Hernandez, an instrument engineer on the Mars 2020 mission, talks about her childhood and journey to NASA.'}]"
      ]
     },
     "execution_count": 14,
     "metadata": {},
     "output_type": "execute_result"
    }
   ],
   "source": [
    "articles_list"
   ]
  },
  {
   "cell_type": "code",
   "execution_count": null,
   "metadata": {},
   "outputs": [],
   "source": []
  }
 ],
 "metadata": {
  "kernelspec": {
   "display_name": "Python 3.9.13 ('PythonData')",
   "language": "python",
   "name": "python3"
  },
  "language_info": {
   "codemirror_mode": {
    "name": "ipython",
    "version": 3
   },
   "file_extension": ".py",
   "mimetype": "text/x-python",
   "name": "python",
   "nbconvert_exporter": "python",
   "pygments_lexer": "ipython3",
   "version": "3.9.13"
  },
  "orig_nbformat": 4,
  "vscode": {
   "interpreter": {
    "hash": "60a027436a0b6b9b077446f89a72c3cf13187a8fba2c17708754823296cc1e4e"
   }
  }
 },
 "nbformat": 4,
 "nbformat_minor": 2
}
